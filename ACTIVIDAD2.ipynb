{
  "nbformat": 4,
  "nbformat_minor": 0,
  "metadata": {
    "colab": {
      "provenance": [],
      "authorship_tag": "ABX9TyMnFqu3usquFRqfwrQfH2lW",
      "include_colab_link": true
    },
    "kernelspec": {
      "name": "python3",
      "display_name": "Python 3"
    },
    "language_info": {
      "name": "python"
    }
  },
  "cells": [
    {
      "cell_type": "markdown",
      "metadata": {
        "id": "view-in-github",
        "colab_type": "text"
      },
      "source": [
        "<a href=\"https://colab.research.google.com/github/JaredDiazJ/INTELIGENCIA-ARTIFICIAL/blob/main/ACTIVIDAD2.ipynb\" target=\"_parent\"><img src=\"https://colab.research.google.com/assets/colab-badge.svg\" alt=\"Open In Colab\"/></a>"
      ]
    },
    {
      "cell_type": "markdown",
      "source": [
        "# ***UNIVERSIDAD AUTÓNOMA DE NUEVO LEÓN***\n",
        "# ***FACULTAD DE INGENIERÍA MECÁNICA Y ELÉCTRICA***\n",
        "# ***INTELIGENCIA ARTIFICCIAL Y REDES NEURONALES***\n",
        "#Actividad 2: Diseño de algoritmos en Python\n",
        "\n",
        "\n",
        "\n",
        "1.   Desarrolla un algoritmo que le pida al usuario por su nombre y que lo salude con su nombre, excepto si se llama “Ana”, “Juan”, y “Pedro”.\n"
      ],
      "metadata": {
        "id": "Ux1W7bvzGBdu"
      }
    },
    {
      "cell_type": "code",
      "source": [
        "def invertir_lista():\n",
        "    # Pedir al usuario el número de elementos de la lista\n",
        "    n = int(input(\"Ingrese el número de elementos de la lista: \"))\n",
        "\n",
        "    # Pedir al usuario los elementos de la lista\n",
        "    lista = []\n",
        "    for i in range(n):\n",
        "        elemento = input(\"Ingrese el elemento a ingresar: \")\n",
        "        lista.append(elemento)\n",
        "        i+=1\n",
        "\n",
        "    # Invertir el orden de la lista\n",
        "    lista.reverse()\n",
        "\n",
        "    return lista\n"
      ],
      "metadata": {
        "colab": {
          "base_uri": "https://localhost:8080/"
        },
        "id": "ZggqjzleHk95",
        "outputId": "87e82c78-6346-4cbb-9a5a-1b2b4150d314"
      },
      "execution_count": 3,
      "outputs": [
        {
          "output_type": "stream",
          "name": "stdout",
          "text": [
            "Cual es tu nombre? ANA\n",
            "No puedo saludarte\n"
          ]
        }
      ]
    },
    {
      "cell_type": "markdown",
      "source": [
        "\n",
        "\n",
        "2.  Desarrolla un algoritmo que por medio de una función, le pida al usuario una lista de N elementos y como resultado invierta el sentido de la lista.\n",
        "\n"
      ],
      "metadata": {
        "id": "Lq8oBYkeIQwv"
      }
    },
    {
      "cell_type": "code",
      "source": [
        "2def invertir_lista():\n",
        "    # Pedir al usuario el número de elementos de la lista\n",
        "    n = int(input(\"Ingrese el número de elementos de la lista: \"))\n",
        "\n",
        "    # Pedir al usuario los elementos de la lista\n",
        "    lista = []\n",
        "    for i in range(n):\n",
        "        elemento = input(\"Ingrese el elemento a ingresar: \")\n",
        "        lista.append(elemento)\n",
        "        i+=1\n",
        "\n",
        "    # Invertir el orden de la lista\n",
        "    lista.reverse()\n",
        "\n",
        "    return lista\n",
        "lista_invertida = invertir_lista()\n",
        "print(\"La lista invertida es:\", lista_invertida)"
      ],
      "metadata": {
        "colab": {
          "base_uri": "https://localhost:8080/"
        },
        "id": "rCxVROGFIdHg",
        "outputId": "c4ffbb5a-78ff-4221-c7a2-ddde1df57d38"
      },
      "execution_count": 4,
      "outputs": [
        {
          "output_type": "stream",
          "name": "stdout",
          "text": [
            "Ingrese el número de elementos de la lista: 5\n",
            "Ingrese el elemento a ingresar: 1\n",
            "Ingrese el elemento a ingresar: \n",
            "Ingrese el elemento a ingresar: 3\n",
            "Ingrese el elemento a ingresar: 4\n",
            "Ingrese el elemento a ingresar: 5\n",
            "La lista invertida es: ['5', '4', '3', '', '1']\n"
          ]
        }
      ]
    },
    {
      "cell_type": "markdown",
      "source": [
        "3. Desarrolla un algoritmo que le pregunte al usuario cuántos números de la serie de Fibonacci quiere generar y que al final los imprima."
      ],
      "metadata": {
        "id": "kfv0DdxKIsqq"
      }
    },
    {
      "cell_type": "code",
      "source": [
        "fibo = 1\n",
        "n = int(input(\"Cuantos numero de la serie Fibonacci quieres generar: \"))\n",
        "a = 0\n",
        "b = 1\n",
        "while a < n:\n",
        "  print(a)\n",
        "  fibo = a\n",
        "  a = b\n",
        "  b = fibo + b"
      ],
      "metadata": {
        "colab": {
          "base_uri": "https://localhost:8080/"
        },
        "id": "dDHOaNNuI6Jp",
        "outputId": "fd22e82d-3441-4b2c-ec7c-b5eabc030726"
      },
      "execution_count": 5,
      "outputs": [
        {
          "output_type": "stream",
          "name": "stdout",
          "text": [
            "Cuantos numero de la serie Fibonacci quieres generar: 8\n",
            "0\n",
            "1\n",
            "1\n",
            "2\n",
            "3\n",
            "5\n"
          ]
        }
      ]
    },
    {
      "cell_type": "markdown",
      "source": [
        "4.  Juego de adivinar el número: Crea un programa que genere un número aleatorio entre 1 y 100, y luego le pida al usuario que adivine el número. El programa debe proporcionar pistas al usuario si el número es mayor o menor que el número objetivo, y seguir solicitando un nuevo intento hasta que el usuario adivine correctamente."
      ],
      "metadata": {
        "id": "2QHHxqH6JFu8"
      }
    },
    {
      "cell_type": "code",
      "source": [
        "import random\n",
        "print(\"Adivina el numero que estoy pensando en un rango del 1 al 100\")\n",
        "num = random.randint(1, 100)\n",
        "print(num)\n",
        "adivina = int(input(\"Que numero crees que estoy pensando? \"))\n",
        "while num != adivina:\n",
        "    if adivina < num:\n",
        "        print(\"El numero que estoy pensando es mayor, ingresa otro numero\")\n",
        "\n",
        "    elif adivina > num:\n",
        "        print(\"El numero que estoy pensando es menor, ingresa otro numero\")\n",
        "\n",
        "    adivina = int(input(\"Que numero crees que estoy pensando? \"))\n",
        "\n",
        "if num == adivina:\n",
        "    print(\"Genial adivinaste!!!!!!!!!!!!!!!\")"
      ],
      "metadata": {
        "colab": {
          "base_uri": "https://localhost:8080/"
        },
        "id": "x9SwDoDtJRJG",
        "outputId": "5ee0a240-8ebb-47ee-d0cc-712660c2793b"
      },
      "execution_count": 6,
      "outputs": [
        {
          "output_type": "stream",
          "name": "stdout",
          "text": [
            "Adivina el numero que estoy pensando en un rango del 1 al 100\n",
            "63\n",
            "Que numero crees que estoy pensando? 10\n",
            "El numero que estoy pensando es mayor, ingresa otro numero\n",
            "Que numero crees que estoy pensando? 60\n",
            "El numero que estoy pensando es mayor, ingresa otro numero\n",
            "Que numero crees que estoy pensando? 70\n",
            "El numero que estoy pensando es menor, ingresa otro numero\n",
            "Que numero crees que estoy pensando? 63\n",
            "Genial adivinaste!!!!!!!!!!!!!!!\n"
          ]
        }
      ]
    },
    {
      "cell_type": "markdown",
      "source": [
        "5.  Ejercicio de cálculo de números primos en un rango dado: Escribe un programa que solicite al usuario un rango de números y muestre todos los números primos dentro de ese rango."
      ],
      "metadata": {
        "id": "btcu0cCbJbht"
      }
    },
    {
      "cell_type": "code",
      "source": [
        "print(\"Ingresa el rango de numeros para saber que numeros primos existen\")\n",
        "menor = int(input(\"numero menor: \"))\n",
        "mayor = int(input(\"numero mayor: \"))\n",
        "cont = 2\n",
        "h = menor\n",
        "i = 1\n",
        "while h <= mayor:\n",
        "    divisores = 0\n",
        "    i = 1\n",
        "    while i <= h:\n",
        "        if h % i == 0:\n",
        "            divisores += 1\n",
        "        i += 1\n",
        "    if (cont == divisores):\n",
        "        print(\"el numero \", h, \" es primo\")\n",
        "    h+=1"
      ],
      "metadata": {
        "colab": {
          "base_uri": "https://localhost:8080/"
        },
        "id": "W8z61znSJhQt",
        "outputId": "694a904c-58c8-4e97-d2e2-438f08c5ad72"
      },
      "execution_count": 7,
      "outputs": [
        {
          "output_type": "stream",
          "name": "stdout",
          "text": [
            "Ingresa el rango de numeros para saber que numeros primos existen\n",
            "numero menor: 10\n",
            "numero mayor: 100\n",
            "el numero  11  es primo\n",
            "el numero  13  es primo\n",
            "el numero  17  es primo\n",
            "el numero  19  es primo\n",
            "el numero  23  es primo\n",
            "el numero  29  es primo\n",
            "el numero  31  es primo\n",
            "el numero  37  es primo\n",
            "el numero  41  es primo\n",
            "el numero  43  es primo\n",
            "el numero  47  es primo\n",
            "el numero  53  es primo\n",
            "el numero  59  es primo\n",
            "el numero  61  es primo\n",
            "el numero  67  es primo\n",
            "el numero  71  es primo\n",
            "el numero  73  es primo\n",
            "el numero  79  es primo\n",
            "el numero  83  es primo\n",
            "el numero  89  es primo\n",
            "el numero  97  es primo\n"
          ]
        }
      ]
    },
    {
      "cell_type": "markdown",
      "source": [
        "6.  Ejercicio de implementación de una calculadora básica utilizando funciones: Escribe un programa que solicite al usuario dos números y realice operaciones básicas como suma, resta, multiplicación y división utilizando funciones separadas para cada operación."
      ],
      "metadata": {
        "id": "WaIMIJtSJxZM"
      }
    },
    {
      "cell_type": "code",
      "source": [
        "def suma(n1, n2):\n",
        "    s= n1 + n2\n",
        "    return s\n",
        "def resta(n1, n2):\n",
        "    r = n1 - n2\n",
        "    return r\n",
        "\n",
        "def multiplicacion(n1, n2):\n",
        "    m = n1 * n2\n",
        "    return m\n",
        "\n",
        "def division(n1, n2):\n",
        "    d = n1/n2\n",
        "    return d\n",
        "\n",
        "print(\"Esta es una calculadora estandar\")\n",
        "numero1= int(input(\"Ingresa el primer numero: \"))\n",
        "numero2= int(input(\"Ingresa el segundo numero: \"))\n",
        "\n",
        "su = suma(numero1, numero2)\n",
        "res = resta(numero1, numero2)\n",
        "mult = multiplicacion(numero1, numero2)\n",
        "div = division(numero1, numero2)\n",
        "print(\"La suma de los dos numeros es\", su)\n",
        "print(\"La resta de los dos numeros es\", res)\n",
        "print(\"La suma de los dos numeros es\", mult)\n",
        "print(\"La suma de los dos numeros es\", div)"
      ],
      "metadata": {
        "colab": {
          "base_uri": "https://localhost:8080/"
        },
        "id": "6tO7GfMcKAyF",
        "outputId": "656aeaef-d40b-4e3b-9137-8086009cb663"
      },
      "execution_count": 8,
      "outputs": [
        {
          "output_type": "stream",
          "name": "stdout",
          "text": [
            "Esta es una calculadora estandar\n",
            "Ingresa el primer numero: 9\n",
            "Ingresa el segundo numero: 8\n",
            "La suma de los dos numeros es 17\n",
            "La resta de los dos numeros es 1\n",
            "La suma de los dos numeros es 72\n",
            "La suma de los dos numeros es 1.125\n"
          ]
        }
      ]
    },
    {
      "cell_type": "markdown",
      "source": [
        "# PROGRAMA COMPLETO"
      ],
      "metadata": {
        "id": "PUBMuuuhKV6Z"
      }
    },
    {
      "cell_type": "code",
      "source": [
        "\"Importamos random para el ejercicio 3\"\n",
        "import random\n",
        "\n",
        "\"Definimos las funciones necesarias**********************************\"\n",
        "def invertir_lista():\n",
        "    # Pedir al usuario el número de elementos de la lista\n",
        "    n = int(input(\"Ingrese el número de elementos de la lista: \"))\n",
        "\n",
        "    # Pedir al usuario los elementos de la lista\n",
        "    lista = []\n",
        "    for i in range(n):\n",
        "        elemento = input(\"Ingrese el elemento a ingresar: \")\n",
        "        lista.append(elemento)\n",
        "        i+=1\n",
        "\n",
        "    # Invertir el orden de la lista\n",
        "    lista.reverse()\n",
        "\n",
        "    return lista\n",
        "\n",
        "def suma(n1, n2):\n",
        "    s= n1 + n2\n",
        "    return s\n",
        "def resta(n1, n2):\n",
        "    r = n1 - n2\n",
        "    return r\n",
        "\n",
        "def multiplicacion(n1, n2):\n",
        "    m = n1 * n2\n",
        "    return m\n",
        "\n",
        "def division(n1, n2):\n",
        "    d = n1/n2\n",
        "    return d\n",
        "\n",
        "\n",
        "\"Incio del Programa***************************************************\"\n",
        "print(\"--------------Bienvenido al juego--------------\")\n",
        "nombre = input(\"Cual es tu nombre? \")\n",
        "nombre1 = nombre.lower()\n",
        "if nombre1 == \"ana\" or nombre1 == \"juan\" or nombre1 == \"pedro\":\n",
        "    print(\"No puedo saludarte\")\n",
        "else:\n",
        "    print(\"Hola \" + nombre + \"!!!!\")\n",
        "\n",
        "print(\"Selecciona el numero de la accion que deseas realizar\")\n",
        "print(\"1. Ingresar una lista\")\n",
        "print(\"2. Numeros de Fibonacci\")\n",
        "print(\"3. Adivinar un mumero del 1 al 100\")\n",
        "print(\"4. Numeros primos en un rango\")\n",
        "print(\"5. Calculadora\")\n",
        "accion = 0\n",
        "\n",
        "while accion < 1 or accion > 5:\n",
        "    accion = int(input(\"Por favor ingresa un número del 1 al 5: \"))\n",
        "    if accion < 1 or accion > 5:\n",
        "        print(\"El numero ingresado está fuera del rango permitido. Inténtalo de nuevo.\")\n",
        "        print(\"Por favor ingresa un número valido.\")\n",
        "\n",
        "if accion == 1:\n",
        "    lista_invertida = invertir_lista()\n",
        "    print(\"La lista invertida es:\", lista_invertida)\n",
        "\n",
        "elif accion == 2:\n",
        "    fibo = 1\n",
        "    n = int(input(\"Cuantos numero de la serie Fibonacci quieres generar: \"))\n",
        "    a = 0\n",
        "    b = 1\n",
        "    while a < n:\n",
        "        print(a)\n",
        "        fibo = a\n",
        "        a = b\n",
        "        b = fibo + b\n",
        "\n",
        "elif accion == 3:\n",
        "    print(\"Adivina el numero que estoy pensando en un rango del 1 al 100\")\n",
        "    num = random.randint(1, 100)\n",
        "    print(num)\n",
        "    adivina = int(input(\"Que numero crees que estoy pensando? \"))\n",
        "    while num != adivina:\n",
        "        if adivina < num:\n",
        "            print(\"El numero que estoy pensando es mayor, ingresa otro numero\")\n",
        "\n",
        "        elif adivina > num:\n",
        "            print(\"El numero que estoy pensando es menor, ingresa otro numero\")\n",
        "\n",
        "        adivina = int(input(\"Que numero crees que estoy pensando? \"))\n",
        "\n",
        "    if num == adivina:\n",
        "        print(\"Genial adivinaste!!!!!!!!!!!!!!!\")\n",
        "\n",
        "elif accion == 4:\n",
        "    print(\"Ingresa el rango de numeros para saber que numeros primos existen\")\n",
        "    menor = int(input(\"numero menor: \"))\n",
        "    mayor = int(input(\"numero mayor: \"))\n",
        "    cont = 2\n",
        "    h = menor\n",
        "    i = 1\n",
        "    while h <= mayor:\n",
        "        divisores = 0\n",
        "        i = 1\n",
        "        while i <= h:\n",
        "            if h % i == 0:\n",
        "                divisores += 1\n",
        "            i += 1\n",
        "        if (cont == divisores):\n",
        "            print(\"el numero \", h, \" es primo\")\n",
        "        h+=1\n",
        "\n",
        "elif accion == 5:\n",
        "    print(\"Esta es una calculadora estandar\")\n",
        "    numero1= int(input(\"Ingresa el primer numero: \"))\n",
        "    numero2= int(input(\"Ingresa el segundo numero: \"))\n",
        "\n",
        "    su = suma(numero1, numero2)\n",
        "    res = resta(numero1, numero2)\n",
        "    mult = multiplicacion(numero1, numero2)\n",
        "    div = division(numero1, numero2)\n",
        "    print(\"La suma de los dos numeros es\", su)\n",
        "    print(\"La resta de los dos numeros es\", res)\n",
        "    print(\"La suma de los dos numeros es\", mult)\n",
        "    print(\"La suma de los dos numeros es\", div)\n",
        ""
      ],
      "metadata": {
        "id": "nnvp0hYHKbEZ"
      },
      "execution_count": null,
      "outputs": []
    }
  ]
}